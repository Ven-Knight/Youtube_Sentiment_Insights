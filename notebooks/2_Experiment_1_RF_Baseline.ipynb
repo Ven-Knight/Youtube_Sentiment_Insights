{
 "cells": [
  {
   "cell_type": "markdown",
   "metadata": {},
   "source": [
    "## Deploying MLflow Tracking Server on AWS with S3-Backed Artifact Storage (DONE)"
   ]
  },
  {
   "cell_type": "code",
   "execution_count": 2,
   "metadata": {
    "colab": {
     "base_uri": "https://localhost:8080/"
    },
    "id": "Ha3O-_d__JN1",
    "outputId": "c68055cd-2418-4b64-c6f5-45e6aa374551"
   },
   "outputs": [],
   "source": [
    "# !pip install mlflow\n",
    "# !pip install boto3\n",
    "# !pip install awscli\n",
    "\n",
    "# !aws configure   # I have configured the aws from terminal as this is was not worked in notebook'"
   ]
  },
  {
   "cell_type": "markdown",
   "metadata": {},
   "source": [
    "    * Test MLFlow"
   ]
  },
  {
   "cell_type": "code",
   "execution_count": 4,
   "metadata": {
    "colab": {
     "base_uri": "https://localhost:8080/"
    },
    "id": "OTr4F1Vj_OPp",
    "outputId": "b5d2c425-e4b8-4498-d7f2-8221541872ac"
   },
   "outputs": [],
   "source": [
    "# import mlflow\n",
    "\n",
    "# mlflow.set_tracking_uri(\"http://ec2-43-205-177-148.ap-south-1.compute.amazonaws.com:5000/\")   # URL of MLFlow UI\n",
    "\n",
    "# with mlflow.start_run():\n",
    "#     mlflow.log_param(\"param1\", 25)\n",
    "#     mlflow.log_metric(\"metric1\", 2.89)"
   ]
  },
  {
   "cell_type": "markdown",
   "metadata": {},
   "source": [
    "## Creation of baseline model"
   ]
  },
  {
   "cell_type": "code",
   "execution_count": 6,
   "metadata": {
    "id": "gT5_m6-_Rrad"
   },
   "outputs": [],
   "source": [
    "import mlflow\n",
    "import mlflow.sklearn\n",
    "import numpy             as np\n",
    "import pandas            as pd\n",
    "import matplotlib.pyplot as plt\n",
    "import seaborn           as sns\n",
    "\n",
    "from sklearn.ensemble                import RandomForestClassifier\n",
    "from mlflow.models.signature         import infer_signature\n",
    "from sklearn.feature_extraction.text import CountVectorizer\n",
    "from sklearn.preprocessing           import StandardScaler\n",
    "from sklearn.model_selection         import train_test_split, cross_val_predict, StratifiedKFold\n",
    "from sklearn.metrics                 import *"
   ]
  },
  {
   "cell_type": "code",
   "execution_count": 7,
   "metadata": {
    "colab": {
     "base_uri": "https://localhost:8080/",
     "height": 206
    },
    "id": "u3hxNz36b6_7",
    "outputId": "08ec721a-a126-46ad-f93b-bbdd7e0e14a7"
   },
   "outputs": [
    {
     "data": {
      "text/html": [
       "<div>\n",
       "<style scoped>\n",
       "    .dataframe tbody tr th:only-of-type {\n",
       "        vertical-align: middle;\n",
       "    }\n",
       "\n",
       "    .dataframe tbody tr th {\n",
       "        vertical-align: top;\n",
       "    }\n",
       "\n",
       "    .dataframe thead th {\n",
       "        text-align: right;\n",
       "    }\n",
       "</style>\n",
       "<table border=\"1\" class=\"dataframe\">\n",
       "  <thead>\n",
       "    <tr style=\"text-align: right;\">\n",
       "      <th></th>\n",
       "      <th>raw_comment</th>\n",
       "      <th>category</th>\n",
       "      <th>word_count_raw</th>\n",
       "      <th>char_count_raw</th>\n",
       "      <th>num_unique_words</th>\n",
       "      <th>num_upper_words</th>\n",
       "      <th>num_punctuation_raw</th>\n",
       "      <th>cleaned_comment</th>\n",
       "      <th>num_stop_words</th>\n",
       "      <th>processed_comment</th>\n",
       "      <th>final_word_count</th>\n",
       "      <th>final_char_count</th>\n",
       "    </tr>\n",
       "  </thead>\n",
       "  <tbody>\n",
       "    <tr>\n",
       "      <th>0</th>\n",
       "      <td>family mormon have never tried explain them t...</td>\n",
       "      <td>1</td>\n",
       "      <td>39</td>\n",
       "      <td>261</td>\n",
       "      <td>34</td>\n",
       "      <td>0</td>\n",
       "      <td>0</td>\n",
       "      <td>family mormon have never tried explain them th...</td>\n",
       "      <td>13</td>\n",
       "      <td>family mormon never tried explain still stare ...</td>\n",
       "      <td>26</td>\n",
       "      <td>171</td>\n",
       "    </tr>\n",
       "    <tr>\n",
       "      <th>1</th>\n",
       "      <td>buddhism has very much lot compatible with chr...</td>\n",
       "      <td>1</td>\n",
       "      <td>196</td>\n",
       "      <td>1269</td>\n",
       "      <td>136</td>\n",
       "      <td>0</td>\n",
       "      <td>0</td>\n",
       "      <td>buddhism has very much lot compatible with chr...</td>\n",
       "      <td>56</td>\n",
       "      <td>buddhism much lot compatible christianity espe...</td>\n",
       "      <td>140</td>\n",
       "      <td>842</td>\n",
       "    </tr>\n",
       "    <tr>\n",
       "      <th>2</th>\n",
       "      <td>seriously don say thing first all they won get...</td>\n",
       "      <td>-1</td>\n",
       "      <td>86</td>\n",
       "      <td>460</td>\n",
       "      <td>67</td>\n",
       "      <td>0</td>\n",
       "      <td>0</td>\n",
       "      <td>seriously don say thing first all they won get...</td>\n",
       "      <td>40</td>\n",
       "      <td>seriously say thing first get complex explain ...</td>\n",
       "      <td>46</td>\n",
       "      <td>230</td>\n",
       "    </tr>\n",
       "    <tr>\n",
       "      <th>3</th>\n",
       "      <td>what you have learned yours and only yours wha...</td>\n",
       "      <td>0</td>\n",
       "      <td>29</td>\n",
       "      <td>168</td>\n",
       "      <td>24</td>\n",
       "      <td>0</td>\n",
       "      <td>0</td>\n",
       "      <td>what you have learned yours and only yours wha...</td>\n",
       "      <td>14</td>\n",
       "      <td>learned want teach different focus goal not wr...</td>\n",
       "      <td>15</td>\n",
       "      <td>87</td>\n",
       "    </tr>\n",
       "    <tr>\n",
       "      <th>4</th>\n",
       "      <td>for your own benefit you may want read living ...</td>\n",
       "      <td>1</td>\n",
       "      <td>112</td>\n",
       "      <td>691</td>\n",
       "      <td>82</td>\n",
       "      <td>0</td>\n",
       "      <td>0</td>\n",
       "      <td>for your own benefit you may want read living ...</td>\n",
       "      <td>46</td>\n",
       "      <td>benefit may want read living buddha living chr...</td>\n",
       "      <td>66</td>\n",
       "      <td>397</td>\n",
       "    </tr>\n",
       "  </tbody>\n",
       "</table>\n",
       "</div>"
      ],
      "text/plain": [
       "                                         raw_comment  category  \\\n",
       "0   family mormon have never tried explain them t...         1   \n",
       "1  buddhism has very much lot compatible with chr...         1   \n",
       "2  seriously don say thing first all they won get...        -1   \n",
       "3  what you have learned yours and only yours wha...         0   \n",
       "4  for your own benefit you may want read living ...         1   \n",
       "\n",
       "   word_count_raw  char_count_raw  num_unique_words  num_upper_words  \\\n",
       "0              39             261                34                0   \n",
       "1             196            1269               136                0   \n",
       "2              86             460                67                0   \n",
       "3              29             168                24                0   \n",
       "4             112             691                82                0   \n",
       "\n",
       "   num_punctuation_raw                                    cleaned_comment  \\\n",
       "0                    0  family mormon have never tried explain them th...   \n",
       "1                    0  buddhism has very much lot compatible with chr...   \n",
       "2                    0  seriously don say thing first all they won get...   \n",
       "3                    0  what you have learned yours and only yours wha...   \n",
       "4                    0  for your own benefit you may want read living ...   \n",
       "\n",
       "   num_stop_words                                  processed_comment  \\\n",
       "0              13  family mormon never tried explain still stare ...   \n",
       "1              56  buddhism much lot compatible christianity espe...   \n",
       "2              40  seriously say thing first get complex explain ...   \n",
       "3              14  learned want teach different focus goal not wr...   \n",
       "4              46  benefit may want read living buddha living chr...   \n",
       "\n",
       "   final_word_count  final_char_count  \n",
       "0                26               171  \n",
       "1               140               842  \n",
       "2                46               230  \n",
       "3                15                87  \n",
       "4                66               397  "
      ]
     },
     "execution_count": 7,
     "metadata": {},
     "output_type": "execute_result"
    }
   ],
   "source": [
    "df = pd.read_csv('preprocessed_corpus.csv')\n",
    "df.head()"
   ]
  },
  {
   "cell_type": "code",
   "execution_count": 8,
   "metadata": {
    "id": "EAKFpLNig7B2"
   },
   "outputs": [],
   "source": [
    "# Step 1: Vectorize the comments using Bag of Words (CountVectorizer)\n",
    "vectorizer = CountVectorizer(max_features=10000)  # Bag of Words model with a limit of 1000 features"
   ]
  },
  {
   "cell_type": "code",
   "execution_count": 9,
   "metadata": {
    "id": "DEbBOYO9g-jq"
   },
   "outputs": [],
   "source": [
    "X          = vectorizer.fit_transform(df['processed_comment']).toarray()\n",
    "y          = df['category']          "
   ]
  },
  {
   "cell_type": "code",
   "execution_count": 10,
   "metadata": {},
   "outputs": [
    {
     "data": {
      "text/plain": [
       "(array([[0, 0, 0, ..., 0, 0, 0],\n",
       "        [0, 0, 0, ..., 0, 0, 0],\n",
       "        [0, 0, 0, ..., 0, 0, 0],\n",
       "        ...,\n",
       "        [0, 0, 0, ..., 0, 0, 0],\n",
       "        [0, 0, 0, ..., 0, 0, 0],\n",
       "        [0, 0, 0, ..., 0, 0, 0]], dtype=int64),\n",
       " (36640, 10000),\n",
       " (36640,))"
      ]
     },
     "execution_count": 10,
     "metadata": {},
     "output_type": "execute_result"
    }
   ],
   "source": [
    "X, X.shape, y.shape"
   ]
  },
  {
   "cell_type": "code",
   "execution_count": 11,
   "metadata": {
    "id": "op6TubXQhPfw"
   },
   "outputs": [],
   "source": [
    "# Step 2: Set up the MLflow tracking server\n",
    "mlflow.set_tracking_uri(\"http://ec2-13-201-96-130.ap-south-1.compute.amazonaws.com:5000/\")"
   ]
  },
  {
   "cell_type": "code",
   "execution_count": 12,
   "metadata": {},
   "outputs": [],
   "source": [
    "# # create an experiment \n",
    "# mlflow.create_experiment(\n",
    "#                             name              = \"Experiment_1_RF_Baseline\",\n",
    "#                             artifact_location = \"s3://mlflow-s3-25/Experiment_1_RF_Baseline\"\n",
    "#                         )"
   ]
  },
  {
   "cell_type": "code",
   "execution_count": 13,
   "metadata": {},
   "outputs": [
    {
     "data": {
      "text/plain": [
       "<Experiment: artifact_location='s3://mlflow-s3-25/Experiment_1_RF_Baseline', creation_time=1756892534721, experiment_id='267284533830559238', last_update_time=1756892534721, lifecycle_stage='active', name='Experiment_1_RF_Baseline', tags={}>"
      ]
     },
     "execution_count": 13,
     "metadata": {},
     "output_type": "execute_result"
    }
   ],
   "source": [
    "# set an experiment\n",
    "mlflow.set_experiment(\"Experiment_1_RF_Baseline\")"
   ]
  },
  {
   "cell_type": "code",
   "execution_count": 14,
   "metadata": {
    "colab": {
     "base_uri": "https://localhost:8080/",
     "height": 657
    },
    "id": "7CyCPT6IhWET",
    "outputId": "d5ea4aa3-99de-4640-bc76-28633c7b0aec"
   },
   "outputs": [
    {
     "data": {
      "application/vnd.jupyter.widget-view+json": {
       "model_id": "cf881686625a42a19b0812a1edb78b43",
       "version_major": 2,
       "version_minor": 0
      },
      "text/plain": [
       "Downloading artifacts:   0%|          | 0/7 [00:00<?, ?it/s]"
      ]
     },
     "metadata": {},
     "output_type": "display_data"
    },
    {
     "name": "stdout",
     "output_type": "stream",
     "text": [
      "\u001b[1m\u001b[4mEvaluation Metrics\u001b[0m : (values close to 1 represent the GOOD Model)\n",
      "\n",
      "\tAccuracy     : 0.63    --> [TP + TN]/ALL       : The proportion of correctly predicted observations over total predictions\n",
      "\tLog Loss     : 0.95    --> Measures the performance of a classification model, Less is Good\n",
      "\t\u001b[1m\u001b[4mMacro\u001b[0m  \t\t       --> Macro average       : Treats all classes equally by computing the unweighted mean of per-class metrics\n",
      "\t  Precision  : 0.74    --> [TP]     /[TP + FP] : The proportion of true positive predictions over total positive predictions \n",
      "\t  Recall     : 0.54    --> [TP]     /[TP + FN] : The proportion of true positive predictions over total actual positives.\n",
      "\t  F1-Score   : 0.48    --> The harmonic mean of precision and recall, useful when FP and FN both have serious consequences\n",
      "\t  ROC-AUC    : 0.84    --> Measures the ability of the model to distinguish between classes.\n",
      "\t\u001b[1m\u001b[4mWeighted\u001b[0m  \t       --> Weighted average    : Accounts for class imbalance by weighting each class metric by its support\n",
      "\t  Precision  : 0.70    --> [TP]     /[TP + FP] : The proportion of true positive predictions over total positive predictions \n",
      "\t  Recall     : 0.63    --> [TP]     /[TP + FN] : The proportion of true positive predictions over total actual positives.\n",
      "\t  F1-Score   : 0.56    --> The harmonic mean of precision and recall, useful when FP and FN both have serious consequences\n",
      "\t  ROC-AUC    : 0.84    --> Measures the ability of the model to distinguish between classes.\n",
      "\n",
      "Confusion Matix      :         -->    \u001b[1m\u001b[4mORIGINAL\u001b[0m     \t\t\u001b[1m\u001b[4mSTANDARD\u001b[0m\n",
      "\n",
      "\t\t\t\t   [15 479 1156] \t        [2670 483  1]\n",
      "\t\t\t\t   [ 0 1963 561] \t        [561 1963  0]\n",
      "\t\t\t\t   [ 1 483 2670] \t        [1156 479 15]\n",
      "\n",
      "Classification Rpt   :\n",
      "\t\t\t\t              precision    recall  f1-score   support\n",
      "\t\t\t\t\n",
      "\t\t\t\t          -1       0.94      0.01      0.02      1650\n",
      "\t\t\t\t           0       0.67      0.78      0.72      2524\n",
      "\t\t\t\t           1       0.61      0.85      0.71      3154\n",
      "\t\t\t\t\n",
      "\t\t\t\t    accuracy                           0.63      7328\n",
      "\t\t\t\t   macro avg       0.74      0.54      0.48      7328\n",
      "\t\t\t\tweighted avg       0.70      0.63      0.56      7328\n",
      "🏃 View run RandomForest_Baseline_TrainTestSplit at: http://ec2-13-201-96-130.ap-south-1.compute.amazonaws.com:5000/#/experiments/267284533830559238/runs/6b0b538cef7f489dacd11319a962ab55\n",
      "🧪 View experiment at: http://ec2-13-201-96-130.ap-south-1.compute.amazonaws.com:5000/#/experiments/267284533830559238\n"
     ]
    },
    {
     "data": {
      "image/png": "[encoded data removed]",
      "text/plain": [
       "<Figure size 800x600 with 2 Axes>"
      ]
     },
     "metadata": {},
     "output_type": "display_data"
    }
   ],
   "source": [
    "# Step 1: Split the data into training and testing sets (80% train, 20% test)\n",
    "X_train, X_test, y_train, y_test = train_test_split(X, y, test_size=0.2, random_state=42, stratify=y)\n",
    "\n",
    "# Step 2: Define and train a Random Forest baseline model using a simple train-test split\n",
    "with mlflow.start_run() as run:\n",
    "    # Log a description for the run\n",
    "    mlflow.set_tag(\"mlflow.runName\",  \"RandomForest_Baseline_TrainTestSplit\")\n",
    "    mlflow.set_tag(\"experiment_type\", \"baseline\")\n",
    "    mlflow.set_tag(\"model_type\",      \"RandomForestClassifier\")\n",
    "\n",
    "    # Add a description\n",
    "    mlflow.set_tag(\"description\",     \"Baseline RandomForest model for sentiment analysis using Bag of Words (BoW) with a simple train-test split\")\n",
    "\n",
    "    # Log parameters for the vectorizer\n",
    "    mlflow.log_param(\"vectorizer_type\", \"CountVectorizer\")\n",
    "    mlflow.log_param(\"vectorizer_max_features\", vectorizer.max_features)\n",
    "\n",
    "    # Log Random Forest parameters\n",
    "    n_estimators   = 200\n",
    "    max_depth      = 15\n",
    "\n",
    "    mlflow.log_param(\"n_estimators\", n_estimators)\n",
    "    mlflow.log_param(\"max_depth\",    max_depth)\n",
    "\n",
    "    # Initialize and train the model\n",
    "    model          = RandomForestClassifier(n_estimators=n_estimators, max_depth=max_depth, random_state=42)\n",
    "    model.fit(X_train, y_train)\n",
    "\n",
    "    # Make predictions on the test set\n",
    "    y_pred         = model.predict(X_test)\n",
    "\n",
    "    \n",
    "    # Step 1: Compute Evaluation Metrics\n",
    "    accuracy           = accuracy_score       (y_test, y_pred)\n",
    "    \n",
    "    macro_precision    = precision_score      (y_test, y_pred, average='macro')\n",
    "    macro_recall       = recall_score         (y_test, y_pred, average='macro')         # Recall or Sensitivity\n",
    "    macro_F1_score     = f1_score             (y_test, y_pred, average='macro')\n",
    "    macro_roc_auc      = roc_auc_score        (y_test, model.predict_proba(X_test), average='macro', multi_class='ovr')\n",
    "    weighted_precision = precision_score      (y_test, y_pred, average='weighted')\n",
    "    weighted_recall    = recall_score         (y_test, y_pred, average='weighted')         # Recall or Sensitivity\n",
    "    weighted_F1_score  = f1_score             (y_test, y_pred, average='weighted')\n",
    "    weighted_roc_auc   = roc_auc_score        (y_test, model.predict_proba(X_test), average='weighted', multi_class='ovr')\n",
    "    \n",
    "    log_loss_value     = log_loss             (y_test, model.predict_proba(X_test))\n",
    "    cm                 = confusion_matrix     (y_test,y_pred)\n",
    "    cr                 = classification_report(y_test, y_pred)\n",
    "    \n",
    "    # Step 7: Log Class-wise Metrics from Classification Report\n",
    "    classification_rep = classification_report(y_test, y_pred, output_dict=True)\n",
    "\n",
    "    for label, metrics in classification_rep.items():\n",
    "        clean_label = label.replace(\" avg\", \"\")  # Remove \" avg\" from label if present\n",
    "        if isinstance(metrics, dict):\n",
    "            for metric, value in metrics.items():\n",
    "                mlflow.log_metric(f\"{clean_label}_{metric}\", value)\n",
    "        else:\n",
    "            mlflow.log_metric(f\"{clean_label}\", metrics)\n",
    "\n",
    "    # Step 6: Log Remaining Metrics to MLflow\n",
    "    mlflow.log_metric(\"log_loss\",         log_loss_value)        \n",
    "    mlflow.log_metric(\"macro_roc_auc\",    macro_roc_auc)\n",
    "    mlflow.log_metric(\"weighted_roc_auc\", weighted_roc_auc)\n",
    "    \n",
    "    # Step 8: Plot and Log Confusion Matrix\n",
    "    plt.figure(figsize=(8, 6))\n",
    "    sns.heatmap(cm, annot=True, fmt=\"d\", cmap=\"Blues\")\n",
    "    plt.xlabel(\"Predicted\")\n",
    "    plt.ylabel(\"Actual\")\n",
    "    plt.title(\"Confusion Matrix\")\n",
    "    plt.savefig(\"confusion_matrix.png\")\n",
    "    mlflow.log_artifact(\"confusion_matrix.png\")\n",
    "\n",
    "    # Step 9: saving and logging the dataset\n",
    "    df.to_csv(\"dataset.csv\", index=False)\n",
    "    mlflow.log_artifact(\"dataset.csv\")\n",
    "    \n",
    "    # Step 10: Log Model and Dataset\n",
    "    input_example = X_test[:5]                                       # input_example provides a sample input for the model, \n",
    "                                                                     # useful for UI display and validation\n",
    "    signature     = infer_signature(X_train, model.predict(X_train)) # signature defines the expected input/output schema of the model, \n",
    "                                                                     # enabling reproducibility and serving\n",
    "    \n",
    "    mlflow.sklearn.log_model(\n",
    "                                sk_model      = model,\n",
    "                                name          = \"RF_model_baseline\",\n",
    "                                input_example = input_example,\n",
    "                                signature     = signature\n",
    "                            ) \n",
    "    # Step 11: Print Evaluation Summary\n",
    "    print(f\"\\033[1m\\033[4mEvaluation Metrics\\033[0m : (values close to 1 represent the GOOD Model)\\n\")\n",
    "    print(f'\\tAccuracy     : {accuracy:.2f}    --> [TP + TN]/ALL       : The proportion of correctly predicted observations over total predictions')\n",
    "    print(f'\\tLog Loss     : {log_loss_value:.2f}    --> Measures the performance of a classification model, Less is Good')\n",
    "    print(f'\\t\\033[1m\\033[4mMacro\\033[0m  \\t\\t       --> Macro average       : Treats all classes equally by computing the unweighted mean of per-class metrics')\n",
    "    print(f'\\t  Precision  : {macro_precision:.2f}    --> [TP]     /[TP + FP] : The proportion of true positive predictions over total positive predictions ')\n",
    "    print(f'\\t  Recall     : {macro_recall:.2f}    --> [TP]     /[TP + FN] : The proportion of true positive predictions over total actual positives.')\n",
    "    print(f'\\t  F1-Score   : {macro_F1_score:.2f}    --> The harmonic mean of precision and recall, useful when FP and FN both have serious consequences')\n",
    "    print(f'\\t  ROC-AUC    : {macro_roc_auc:.2f}    --> Measures the ability of the model to distinguish between classes.')\n",
    "    \n",
    "    print(f'\\t\\033[1m\\033[4mWeighted\\033[0m  \\t       --> Weighted average    : Accounts for class imbalance by weighting each class metric by its support')\n",
    "    print(f'\\t  Precision  : {weighted_precision:.2f}    --> [TP]     /[TP + FP] : The proportion of true positive predictions over total positive predictions ')\n",
    "    print(f'\\t  Recall     : {weighted_recall:.2f}    --> [TP]     /[TP + FN] : The proportion of true positive predictions over total actual positives.')\n",
    "    print(f'\\t  F1-Score   : {weighted_F1_score:.2f}    --> The harmonic mean of precision and recall, useful when FP and FN both have serious consequences')\n",
    "    print(f'\\t  ROC-AUC    : {weighted_roc_auc:.2f}    --> Measures the ability of the model to distinguish between classes.')\n",
    "    \n",
    "    \n",
    "    print(f'\\nConfusion Matix      :         -->    \\033[1m\\033[4mORIGINAL\\033[0m     \\t\\t\\033[1m\\033[4mSTANDARD\\033[0m\\n')\n",
    "    def format_row(row):\n",
    "        formatted = ' '.join(f\"{val:>2}\" for val in row)\n",
    "        return f\"[{formatted}]\"\n",
    "    \n",
    "    for row1, row2 in zip(cm, np.flip(cm)):\n",
    "        print(\"\\t\\t\\t\\t  \", format_row(row1), \"\\t       \", format_row(row2))\n",
    "    \n",
    "    print(\"\\nClassification Rpt   :\")\n",
    "    print('\\n'.join('\\t\\t\\t\\t' + line for line in cr.splitlines()))"
   ]
  },
  {
   "cell_type": "code",
   "execution_count": null,
   "metadata": {},
   "outputs": [],
   "source": []
  }
 ],
 "metadata": {
  "colab": {
   "provenance": []
  },
  "kernelspec": {
   "display_name": "DL_TF_GPU_MLFlow_env",
   "language": "python",
   "name": "dl_tf_gpu_mlflow_env"
  },
  "language_info": {
   "codemirror_mode": {
    "name": "ipython",
    "version": 3
   },
   "file_extension": ".py",
   "mimetype": "text/x-python",
   "name": "python",
   "nbconvert_exporter": "python",
   "pygments_lexer": "ipython3",
   "version": "3.9.15"
  }
 },
 "nbformat": 4,
 "nbformat_minor": 4
}

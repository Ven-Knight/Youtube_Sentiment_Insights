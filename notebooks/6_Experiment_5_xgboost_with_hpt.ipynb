{
 "cells": [
  {
   "cell_type": "code",
   "execution_count": 1,
   "id": "de79f62e-8e23-46e6-9cd2-0c0dba47783a",
   "metadata": {},
   "outputs": [],
   "source": [
    "import optuna\n",
    "import mlflow\n",
    "import mlflow.sklearn\n",
    "import matplotlib.pyplot as plt\n",
    "import seaborn           as sns\n",
    "import numpy             as np\n",
    "import pandas            as pd\n",
    "\n",
    "from sklearn.model_selection         import train_test_split\n",
    "from sklearn.metrics                 import *\n",
    "from sklearn.feature_extraction.text import TfidfVectorizer\n",
    "from mlflow.models.signature         import infer_signature\n",
    "from sklearn.linear_model            import LogisticRegression\n",
    "from sklearn.svm                     import SVC\n",
    "from xgboost                         import XGBClassifier\n",
    "from lightgbm                        import LGBMClassifier\n",
    "from sklearn.neighbors               import KNeighborsClassifier\n",
    "from sklearn.naive_bayes             import MultinomialNB\n",
    "from sklearn.ensemble                import RandomForestClassifier\n",
    "from imblearn.over_sampling          import SMOTE"
   ]
  },
  {
   "cell_type": "code",
   "execution_count": 3,
   "id": "04d0c664-e48a-4ec8-a34c-4153eb9dfd1c",
   "metadata": {},
   "outputs": [
    {
     "data": {
      "text/html": [
       "<div>\n",
       "<style scoped>\n",
       "    .dataframe tbody tr th:only-of-type {\n",
       "        vertical-align: middle;\n",
       "    }\n",
       "\n",
       "    .dataframe tbody tr th {\n",
       "        vertical-align: top;\n",
       "    }\n",
       "\n",
       "    .dataframe thead th {\n",
       "        text-align: right;\n",
       "    }\n",
       "</style>\n",
       "<table border=\"1\" class=\"dataframe\">\n",
       "  <thead>\n",
       "    <tr style=\"text-align: right;\">\n",
       "      <th></th>\n",
       "      <th>raw_comment</th>\n",
       "      <th>category</th>\n",
       "      <th>word_count_raw</th>\n",
       "      <th>char_count_raw</th>\n",
       "      <th>num_unique_words</th>\n",
       "      <th>num_upper_words</th>\n",
       "      <th>num_punctuation_raw</th>\n",
       "      <th>cleaned_comment</th>\n",
       "      <th>num_stop_words</th>\n",
       "      <th>processed_comment</th>\n",
       "      <th>final_word_count</th>\n",
       "      <th>final_char_count</th>\n",
       "    </tr>\n",
       "  </thead>\n",
       "  <tbody>\n",
       "    <tr>\n",
       "      <th>0</th>\n",
       "      <td>family mormon have never tried explain them t...</td>\n",
       "      <td>1</td>\n",
       "      <td>39</td>\n",
       "      <td>261</td>\n",
       "      <td>34</td>\n",
       "      <td>0</td>\n",
       "      <td>0</td>\n",
       "      <td>family mormon have never tried explain them th...</td>\n",
       "      <td>13</td>\n",
       "      <td>family mormon never tried explain still stare ...</td>\n",
       "      <td>26</td>\n",
       "      <td>171</td>\n",
       "    </tr>\n",
       "    <tr>\n",
       "      <th>1</th>\n",
       "      <td>buddhism has very much lot compatible with chr...</td>\n",
       "      <td>1</td>\n",
       "      <td>196</td>\n",
       "      <td>1269</td>\n",
       "      <td>136</td>\n",
       "      <td>0</td>\n",
       "      <td>0</td>\n",
       "      <td>buddhism has very much lot compatible with chr...</td>\n",
       "      <td>56</td>\n",
       "      <td>buddhism much lot compatible christianity espe...</td>\n",
       "      <td>140</td>\n",
       "      <td>842</td>\n",
       "    </tr>\n",
       "    <tr>\n",
       "      <th>2</th>\n",
       "      <td>seriously don say thing first all they won get...</td>\n",
       "      <td>-1</td>\n",
       "      <td>86</td>\n",
       "      <td>460</td>\n",
       "      <td>67</td>\n",
       "      <td>0</td>\n",
       "      <td>0</td>\n",
       "      <td>seriously don say thing first all they won get...</td>\n",
       "      <td>40</td>\n",
       "      <td>seriously say thing first get complex explain ...</td>\n",
       "      <td>46</td>\n",
       "      <td>230</td>\n",
       "    </tr>\n",
       "    <tr>\n",
       "      <th>3</th>\n",
       "      <td>what you have learned yours and only yours wha...</td>\n",
       "      <td>0</td>\n",
       "      <td>29</td>\n",
       "      <td>168</td>\n",
       "      <td>24</td>\n",
       "      <td>0</td>\n",
       "      <td>0</td>\n",
       "      <td>what you have learned yours and only yours wha...</td>\n",
       "      <td>14</td>\n",
       "      <td>learned want teach different focus goal not wr...</td>\n",
       "      <td>15</td>\n",
       "      <td>87</td>\n",
       "    </tr>\n",
       "    <tr>\n",
       "      <th>4</th>\n",
       "      <td>for your own benefit you may want read living ...</td>\n",
       "      <td>1</td>\n",
       "      <td>112</td>\n",
       "      <td>691</td>\n",
       "      <td>82</td>\n",
       "      <td>0</td>\n",
       "      <td>0</td>\n",
       "      <td>for your own benefit you may want read living ...</td>\n",
       "      <td>46</td>\n",
       "      <td>benefit may want read living buddha living chr...</td>\n",
       "      <td>66</td>\n",
       "      <td>397</td>\n",
       "    </tr>\n",
       "  </tbody>\n",
       "</table>\n",
       "</div>"
      ],
      "text/plain": [
       "                                         raw_comment  category  \\\n",
       "0   family mormon have never tried explain them t...         1   \n",
       "1  buddhism has very much lot compatible with chr...         1   \n",
       "2  seriously don say thing first all they won get...        -1   \n",
       "3  what you have learned yours and only yours wha...         0   \n",
       "4  for your own benefit you may want read living ...         1   \n",
       "\n",
       "   word_count_raw  char_count_raw  num_unique_words  num_upper_words  \\\n",
       "0              39             261                34                0   \n",
       "1             196            1269               136                0   \n",
       "2              86             460                67                0   \n",
       "3              29             168                24                0   \n",
       "4             112             691                82                0   \n",
       "\n",
       "   num_punctuation_raw                                    cleaned_comment  \\\n",
       "0                    0  family mormon have never tried explain them th...   \n",
       "1                    0  buddhism has very much lot compatible with chr...   \n",
       "2                    0  seriously don say thing first all they won get...   \n",
       "3                    0  what you have learned yours and only yours wha...   \n",
       "4                    0  for your own benefit you may want read living ...   \n",
       "\n",
       "   num_stop_words                                  processed_comment  \\\n",
       "0              13  family mormon never tried explain still stare ...   \n",
       "1              56  buddhism much lot compatible christianity espe...   \n",
       "2              40  seriously say thing first get complex explain ...   \n",
       "3              14  learned want teach different focus goal not wr...   \n",
       "4              46  benefit may want read living buddha living chr...   \n",
       "\n",
       "   final_word_count  final_char_count  \n",
       "0                26               171  \n",
       "1               140               842  \n",
       "2                46               230  \n",
       "3                15                87  \n",
       "4                66               397  "
      ]
     },
     "execution_count": 3,
     "metadata": {},
     "output_type": "execute_result"
    }
   ],
   "source": [
    "df = pd.read_csv('preprocessed_corpus.csv')\n",
    "df.head()"
   ]
  },
  {
   "cell_type": "code",
   "execution_count": 5,
   "id": "03c8c07c-8da6-456a-be61-f694312d6500",
   "metadata": {},
   "outputs": [],
   "source": [
    "# Step 2: Set up the MLflow tracking server\n",
    "mlflow.set_tracking_uri(\"http://ec2-13-201-96-130.ap-south-1.compute.amazonaws.com:5000/\")"
   ]
  },
  {
   "cell_type": "code",
   "execution_count": 7,
   "id": "622bb563-4f63-4f2f-85e5-6fa34534988e",
   "metadata": {},
   "outputs": [],
   "source": [
    "# # create an experiment \n",
    "# mlflow.create_experiment(\n",
    "#                             name              = \"Experiment_5_xgboost_with_hpt\",\n",
    "#                             artifact_location = \"s3://mlflow-s3-25/Experiment_5_xgboost_with_hpt\"\n",
    "#                         )"
   ]
  },
  {
   "cell_type": "code",
   "execution_count": 9,
   "id": "7363f87e-1b27-4f6a-9fe7-41d5fe54c04b",
   "metadata": {},
   "outputs": [
    {
     "data": {
      "text/plain": [
       "<Experiment: artifact_location='s3://mlflow-s3-25/Experiment_5_xgboost_with_hpt', creation_time=1756969496541, experiment_id='992315398862381677', last_update_time=1756969496541, lifecycle_stage='active', name='Experiment_5_xgboost_with_hpt', tags={}>"
      ]
     },
     "execution_count": 9,
     "metadata": {},
     "output_type": "execute_result"
    }
   ],
   "source": [
    "# set an experiment\n",
    "mlflow.set_experiment(\"Experiment_5_xgboost_with_hpt\")"
   ]
  },
  {
   "cell_type": "raw",
   "id": "8184bec2-ea15-49c7-a34e-17ff371af152",
   "metadata": {},
   "source": [
    "Vectorize before SMOTE   : SMOTE needs numerical features—not raw text. TF-IDF converts text into numeric vectors.\n",
    "SMOTE only on training   : Prevents synthetic samples from leaking test data patterns.\n",
    "Test set untouched       : Keeps evaluation realistic and unbiased."
   ]
  },
  {
   "cell_type": "code",
   "execution_count": 11,
   "id": "9bd3212a-b5f5-4711-bed2-961cdb33c7de",
   "metadata": {},
   "outputs": [
    {
     "name": "stderr",
     "output_type": "stream",
     "text": [
      "C:\\Users\\venka\\anaconda3\\envs\\DL_TF_GPU_MLFlow_env\\lib\\site-packages\\sklearn\\base.py:474: FutureWarning: `BaseEstimator._validate_data` is deprecated in 1.6 and will be removed in 1.7. Use `sklearn.utils.validation.validate_data` instead. This function becomes public and is part of the scikit-learn developer API.\n",
      "  warnings.warn(\n"
     ]
    }
   ],
   "source": [
    "# Step 1: Remap the class labels from [-1, 0, 1] to [2, 0, 1]\n",
    "df['category']       = df['category'].map({-1: 2, 0: 0, 1: 1})\n",
    "\n",
    "# Step 4: Train-test split before vectorization and resampling\n",
    "X_train, X_test, y_train, y_test = train_test_split(df['processed_comment'], df['category'], test_size=0.2, random_state=42, stratify=df['category'])\n",
    "\n",
    "# Step 2: Vectorization using TF-IDF, fit on training data only\n",
    "ngram_range          = (1, 3)                                    # Trigram setting\n",
    "max_features         = 1000                                      # Set max_features to 1000 for TF-IDF\n",
    "\n",
    "vectorizer           = TfidfVectorizer(ngram_range=ngram_range, max_features=max_features)\n",
    "X_train_vec          = vectorizer.fit_transform(X_train)          # Fit on training data\n",
    "X_test_vec           = vectorizer.transform    (X_test)           # Transform test data\n",
    "\n",
    "smote                = SMOTE(random_state=42)\n",
    "X_train_vec, y_train = smote.fit_resample(X_train_vec, y_train)"
   ]
  },
  {
   "cell_type": "code",
   "execution_count": 13,
   "id": "c2bc79cf-5a82-4994-870a-c9c7e4b29b69",
   "metadata": {},
   "outputs": [],
   "source": [
    "# Function to log results in MLflow\n",
    "def log_mlflow(model_name, model, X_train, X_test, y_train, y_test, params):\n",
    "    with mlflow.start_run() as run:\n",
    "        # Log model type\n",
    "        mlflow.set_tag(\"mlflow.runName\",  f\"{model_name}_SMOTE_TFIDF_Trigrams\")\n",
    "        mlflow.set_tag(\"experiment_type\", \"algorithm_comparison\")\n",
    "\n",
    "        # Log algorithm name as a parameter\n",
    "        mlflow.log_param(\"Algorithm_name\", model_name)\n",
    "        # Log hyperparameters\n",
    "        for key, value in params.items():\n",
    "            mlflow.log_param(key, value)\n",
    "\n",
    "        # Train model\n",
    "        model.fit(X_train, y_train)\n",
    "\n",
    "        # Step 6: Make predictions and log metrics\n",
    "        y_pred             = model.predict(X_test_vec)\n",
    "\n",
    "        # Step 5: Compute Evaluation Metrics\n",
    "        accuracy           = accuracy_score       (y_test, y_pred)\n",
    "        \n",
    "        macro_precision    = precision_score      (y_test, y_pred, average='macro')\n",
    "        macro_recall       = recall_score         (y_test, y_pred, average='macro')            # Recall or Sensitivity\n",
    "        macro_F1_score     = f1_score             (y_test, y_pred, average='macro')\n",
    "        macro_roc_auc      = roc_auc_score        (y_test, model.predict_proba(X_test_vec), average='macro', multi_class='ovr')\n",
    "        weighted_precision = precision_score      (y_test, y_pred, average='weighted')\n",
    "        weighted_recall    = recall_score         (y_test, y_pred, average='weighted')         # Recall or Sensitivity\n",
    "        weighted_F1_score  = f1_score             (y_test, y_pred, average='weighted')\n",
    "        weighted_roc_auc   = roc_auc_score        (y_test, model.predict_proba(X_test_vec), average='weighted', multi_class='ovr')\n",
    "        \n",
    "        log_loss_value     = log_loss             (y_test, model.predict_proba(X_test_vec))\n",
    "        cm                 = confusion_matrix     (y_test, y_pred)\n",
    "        cr                 = classification_report(y_test, y_pred)\n",
    "        \n",
    "        # Step 7: Log Class-wise Metrics from Classification Report\n",
    "        classification_rep = classification_report(y_test, y_pred, output_dict=True)\n",
    "\n",
    "        for label, metrics in classification_rep.items():\n",
    "            clean_label    = label.replace(\" avg\", \"\")                   # Remove \" avg\" from label if present\n",
    "            if isinstance(metrics, dict):\n",
    "                for metric, value in metrics.items():\n",
    "                    mlflow.log_metric(f\"{clean_label}_{metric}\", value)  \n",
    "            else:\n",
    "                mlflow.log_metric(f\"{clean_label}\", metrics)             # Logs accuracy metric\n",
    "        \n",
    "        # Step 6: Log Remaining Metrics to MLflow\n",
    "        mlflow.log_metric(\"log_loss\",         log_loss_value)        \n",
    "        mlflow.log_metric(\"macro_roc_auc\",    macro_roc_auc)\n",
    "        mlflow.log_metric(\"weighted_roc_auc\", weighted_roc_auc)\n",
    "        \n",
    "        # Step 8: Plot and Log Confusion Matrix\n",
    "        plt.figure(figsize=(8, 6))\n",
    "        sns.heatmap(cm, annot=True, fmt=\"d\", cmap=\"Blues\")\n",
    "        plt.xlabel(\"Predicted\")\n",
    "        plt.ylabel(\"Actual\")\n",
    "        plt.title(f\"Confusion Matrix : {model_name}_model\")\n",
    "        plt.savefig(\"confusion_matrix.png\")\n",
    "        mlflow.log_artifact(\"confusion_matrix.png\")\n",
    "    \n",
    "        # Step 9: saving and logging the dataset\n",
    "        df.to_csv(\"dataset.csv\", index=False)\n",
    "        mlflow.log_artifact(\"dataset.csv\")\n",
    "        \n",
    "        # Step 10: Log Model and Dataset\n",
    "        input_example = X_test_vec[:5]                                           # input_example provides a sample input for the model, \n",
    "                                                                                 # useful for UI display and validation\n",
    "        signature     = infer_signature(X_train_vec, model.predict(X_train_vec)) # signature defines the expected input/output schema of the model, \n",
    "                                                                                 # enabling reproducibility and serving\n",
    "        \n",
    "        mlflow.sklearn.log_model(\n",
    "                                    sk_model      = model,\n",
    "                                    name          = f\"{model_name}_model\",\n",
    "                                    input_example = input_example,\n",
    "                                    signature     = signature\n",
    "                                ) \n",
    "        # Step 11: Print Evaluation Summary\n",
    "        print(f\"\\033[1m\\033[4mEvaluation Metrics : {model_name}_model\\033[0m : (values close to 1 represent the GOOD Model)\\n\")\n",
    "        print(f'\\tAccuracy     : {accuracy:.2f}    --> [TP + TN]/ALL       : The proportion of correctly predicted observations over total predictions')\n",
    "        print(f'\\tLog Loss     : {log_loss_value:.2f}    --> Measures the performance of a classification model, Less is Good')\n",
    "        print(f'\\t\\033[1m\\033[4mMacro\\033[0m  \\t\\t       --> Macro average       : Treats all classes equally by computing the unweighted mean of per-class metrics')\n",
    "        print(f'\\t  Precision  : {macro_precision:.2f}    --> [TP]     /[TP + FP] : The proportion of true positive predictions over total positive predictions ')\n",
    "        print(f'\\t  Recall     : {macro_recall:.2f}    --> [TP]     /[TP + FN] : The proportion of true positive predictions over total actual positives.')\n",
    "        print(f'\\t  F1-Score   : {macro_F1_score:.2f}    --> The harmonic mean of precision and recall, useful when FP and FN both have serious consequences')\n",
    "        print(f'\\t  ROC-AUC    : {macro_roc_auc:.2f}    --> Measures the ability of the model to distinguish between classes.')\n",
    "        \n",
    "        print(f'\\t\\033[1m\\033[4mWeighted\\033[0m  \\t       --> Weighted average    : Accounts for class imbalance by weighting each class metric by its support')\n",
    "        print(f'\\t  Precision  : {weighted_precision:.2f}    --> [TP]     /[TP + FP] : The proportion of true positive predictions over total positive predictions ')\n",
    "        print(f'\\t  Recall     : {weighted_recall:.2f}    --> [TP]     /[TP + FN] : The proportion of true positive predictions over total actual positives.')\n",
    "        print(f'\\t  F1-Score   : {weighted_F1_score:.2f}    --> The harmonic mean of precision and recall, useful when FP and FN both have serious consequences')\n",
    "        print(f'\\t  ROC-AUC    : {weighted_roc_auc:.2f}    --> Measures the ability of the model to distinguish between classes.')\n",
    "        \n",
    "        \n",
    "        print(f'\\nConfusion Matix      :         -->    \\033[1m\\033[4mORIGINAL\\033[0m     \\t\\t\\033[1m\\033[4mSTANDARD\\033[0m\\n')\n",
    "        def format_row(row):\n",
    "            formatted = ' '.join(f\"{val:>2}\" for val in row)\n",
    "            return f\"[{formatted}]\"\n",
    "        \n",
    "        for row1, row2 in zip(cm, np.flip(cm)):\n",
    "            print(\"\\t\\t\\t\\t  \", format_row(row1), \"\\t       \", format_row(row2))\n",
    "        \n",
    "        print(\"\\nClassification Rpt   :\")\n",
    "        print('\\n'.join('\\t\\t\\t\\t' + line for line in cr.splitlines()))\n",
    "\n",
    "\n",
    "\n",
    "\n",
    "\n",
    "# Step 6: Optuna objective function for XGBoost\n",
    "def objective_xgboost(trial):\n",
    "    n_estimators  = trial.suggest_int   ('n_estimators',  50, 300)                    # it uses Bayesian optimization  to intelligently sample values based on past trial performance\n",
    "    learning_rate = trial.suggest_float ('learning_rate', 1e-4, 1e-1, log=True)       # Suggest learning rate on a logarithmic scale for fine-grained tuning\n",
    "    max_depth     = trial.suggest_int   ('max_depth',     3, 10)                      # Suggest maximum tree depth to control model complexity\n",
    "\n",
    "    model         = XGBClassifier(n_estimators=n_estimators, learning_rate=learning_rate, max_depth=max_depth, random_state=42)\n",
    "    \n",
    "    return accuracy_score(y_test, model.fit(X_train_vec, y_train).predict(X_test_vec))# Train the model and return accuracy on the test set as the optimization target\n",
    "\n",
    "\n",
    "# Run Optuna hyperparameter optimization for xgboost and log the best model only\n",
    "def run_optuna_experiment():\n",
    "    study         = optuna.create_study(direction=\"maximize\")                         # Create an Optuna study to maximize accuracy\n",
    "    study.optimize(objective_xgboost, n_trials=30)                                    # Run optimization for 30 trials using the objective function\n",
    "\n",
    "\n",
    "    best_params   = study.best_params                                                 # Retrieve the best hyperparameters from the study\n",
    "    best_model    = XGBClassifier(                                                    # Rebuild the model using the best-found parameters\n",
    "                                    n_estimators   = best_params['n_estimators'],\n",
    "                                    learning_rate  = best_params['learning_rate'], \n",
    "                                    max_depth      = best_params['max_depth'], \n",
    "                                    random_state   = 42\n",
    "                                 )\n",
    "\n",
    "    return study, best_model                                                                    "
   ]
  },
  {
   "cell_type": "code",
   "execution_count": 15,
   "id": "ee0c9a25-dd08-4568-bb3d-64c9d607d331",
   "metadata": {},
   "outputs": [
    {
     "name": "stderr",
     "output_type": "stream",
     "text": [
      "[I 2025-09-04 17:52:12,551] A new study created in memory with name: no-name-3ff7324d-5e1d-4eb5-a735-a3d4ac7675bf\n",
      "[I 2025-09-04 17:52:35,394] Trial 0 finished with value: 0.5807860262008734 and parameters: {'n_estimators': 73, 'learning_rate': 0.0006807162232872763, 'max_depth': 8}. Best is trial 0 with value: 0.5807860262008734.\n",
      "[I 2025-09-04 17:52:53,765] Trial 1 finished with value: 0.6176310043668122 and parameters: {'n_estimators': 81, 'learning_rate': 0.013671677912455068, 'max_depth': 6}. Best is trial 1 with value: 0.6176310043668122.\n",
      "[I 2025-09-04 17:53:36,290] Trial 2 finished with value: 0.6735807860262009 and parameters: {'n_estimators': 156, 'learning_rate': 0.023482003998703916, 'max_depth': 7}. Best is trial 2 with value: 0.6735807860262009.\n",
      "[I 2025-09-04 17:54:04,247] Trial 3 finished with value: 0.5346615720524017 and parameters: {'n_estimators': 188, 'learning_rate': 0.0001223507410900021, 'max_depth': 5}. Best is trial 2 with value: 0.6735807860262009.\n",
      "[I 2025-09-04 17:55:22,227] Trial 4 finished with value: 0.6043941048034934 and parameters: {'n_estimators': 160, 'learning_rate': 0.0002701576544944235, 'max_depth': 10}. Best is trial 2 with value: 0.6735807860262009.\n",
      "[I 2025-09-04 17:56:22,732] Trial 5 finished with value: 0.5818777292576419 and parameters: {'n_estimators': 196, 'learning_rate': 0.0005348860316377017, 'max_depth': 8}. Best is trial 2 with value: 0.6735807860262009.\n",
      "[I 2025-09-04 17:57:29,063] Trial 6 finished with value: 0.6821779475982532 and parameters: {'n_estimators': 225, 'learning_rate': 0.01665828837779778, 'max_depth': 8}. Best is trial 6 with value: 0.6821779475982532.\n",
      "[I 2025-09-04 17:57:41,365] Trial 7 finished with value: 0.5732805676855895 and parameters: {'n_estimators': 138, 'learning_rate': 0.007407445077632121, 'max_depth': 4}. Best is trial 6 with value: 0.6821779475982532.\n",
      "[I 2025-09-04 17:58:29,662] Trial 8 finished with value: 0.5698689956331878 and parameters: {'n_estimators': 198, 'learning_rate': 0.001103486383521931, 'max_depth': 7}. Best is trial 6 with value: 0.6821779475982532.\n",
      "[I 2025-09-04 17:58:46,618] Trial 9 finished with value: 0.5080513100436681 and parameters: {'n_estimators': 281, 'learning_rate': 0.0005655224311658883, 'max_depth': 3}. Best is trial 6 with value: 0.6821779475982532.\n",
      "[I 2025-09-04 18:00:10,793] Trial 10 finished with value: 0.7721069868995634 and parameters: {'n_estimators': 281, 'learning_rate': 0.09247730956137794, 'max_depth': 10}. Best is trial 10 with value: 0.7721069868995634.\n",
      "[I 2025-09-04 18:01:28,116] Trial 11 finished with value: 0.7704694323144105 and parameters: {'n_estimators': 282, 'learning_rate': 0.09539543662624426, 'max_depth': 10}. Best is trial 10 with value: 0.7721069868995634.\n",
      "[I 2025-09-04 18:02:47,575] Trial 12 finished with value: 0.7726528384279476 and parameters: {'n_estimators': 298, 'learning_rate': 0.09807890545508778, 'max_depth': 10}. Best is trial 12 with value: 0.7726528384279476.\n",
      "[I 2025-09-04 18:04:22,285] Trial 13 finished with value: 0.7689683406113537 and parameters: {'n_estimators': 298, 'learning_rate': 0.08064471950847928, 'max_depth': 10}. Best is trial 12 with value: 0.7726528384279476.\n",
      "[I 2025-09-04 18:05:40,261] Trial 14 finished with value: 0.7416757641921398 and parameters: {'n_estimators': 247, 'learning_rate': 0.038882435141246556, 'max_depth': 9}. Best is trial 12 with value: 0.7726528384279476.\n",
      "[I 2025-09-04 18:07:29,640] Trial 15 finished with value: 0.6375545851528385 and parameters: {'n_estimators': 251, 'learning_rate': 0.0038398945876691334, 'max_depth': 9}. Best is trial 12 with value: 0.7726528384279476.\n",
      "[I 2025-09-04 18:08:55,986] Trial 16 finished with value: 0.7551855895196506 and parameters: {'n_estimators': 263, 'learning_rate': 0.04676414954316968, 'max_depth': 9}. Best is trial 12 with value: 0.7726528384279476.\n",
      "[I 2025-09-04 18:11:01,705] Trial 17 finished with value: 0.6334606986899564 and parameters: {'n_estimators': 230, 'learning_rate': 0.003003496071973515, 'max_depth': 10}. Best is trial 12 with value: 0.7726528384279476.\n",
      "[I 2025-09-04 18:11:26,753] Trial 18 finished with value: 0.6945960698689956 and parameters: {'n_estimators': 128, 'learning_rate': 0.04816950709401315, 'max_depth': 6}. Best is trial 12 with value: 0.7726528384279476.\n",
      "[I 2025-09-04 18:13:36,028] Trial 19 finished with value: 0.6630731441048034 and parameters: {'n_estimators': 295, 'learning_rate': 0.007184879524597319, 'max_depth': 9}. Best is trial 12 with value: 0.7726528384279476.\n",
      "[I 2025-09-04 18:14:30,590] Trial 20 finished with value: 0.7661026200873362 and parameters: {'n_estimators': 224, 'learning_rate': 0.09473416427744012, 'max_depth': 8}. Best is trial 12 with value: 0.7726528384279476.\n",
      "[I 2025-09-04 18:15:49,868] Trial 21 finished with value: 0.7719705240174672 and parameters: {'n_estimators': 269, 'learning_rate': 0.0998127368297518, 'max_depth': 10}. Best is trial 12 with value: 0.7726528384279476.\n",
      "[I 2025-09-04 18:17:40,705] Trial 22 finished with value: 0.7444050218340611 and parameters: {'n_estimators': 268, 'learning_rate': 0.033050312995246946, 'max_depth': 10}. Best is trial 12 with value: 0.7726528384279476.\n",
      "[I 2025-09-04 18:18:53,981] Trial 23 finished with value: 0.761735807860262 and parameters: {'n_estimators': 246, 'learning_rate': 0.0664733820328272, 'max_depth': 9}. Best is trial 12 with value: 0.7726528384279476.\n",
      "[I 2025-09-04 18:21:02,235] Trial 24 finished with value: 0.7179312227074236 and parameters: {'n_estimators': 278, 'learning_rate': 0.019956158856814326, 'max_depth': 10}. Best is trial 12 with value: 0.7726528384279476.\n",
      "[I 2025-09-04 18:23:17,124] Trial 25 finished with value: 0.673717248908297 and parameters: {'n_estimators': 299, 'learning_rate': 0.008910631499172672, 'max_depth': 9}. Best is trial 12 with value: 0.7726528384279476.\n",
      "[I 2025-09-04 18:24:56,929] Trial 26 finished with value: 0.7259825327510917 and parameters: {'n_estimators': 213, 'learning_rate': 0.030213079259706014, 'max_depth': 10}. Best is trial 12 with value: 0.7726528384279476.\n",
      "[I 2025-09-04 18:25:46,484] Trial 27 finished with value: 0.7595524017467249 and parameters: {'n_estimators': 261, 'learning_rate': 0.06922580149650084, 'max_depth': 7}. Best is trial 12 with value: 0.7726528384279476.\n",
      "[I 2025-09-04 18:26:49,881] Trial 28 finished with value: 0.75382096069869 and parameters: {'n_estimators': 240, 'learning_rate': 0.055703069680880714, 'max_depth': 8}. Best is trial 12 with value: 0.7726528384279476.\n",
      "[I 2025-09-04 18:27:17,439] Trial 29 finished with value: 0.5777838427947598 and parameters: {'n_estimators': 70, 'learning_rate': 0.0027060655339505237, 'max_depth': 8}. Best is trial 12 with value: 0.7726528384279476.\n"
     ]
    }
   ],
   "source": [
    "# Run the experiment for XGBoost\n",
    "study, best_model = run_optuna_experiment()"
   ]
  },
  {
   "cell_type": "code",
   "execution_count": 16,
   "id": "818c427e-9b30-47df-ba82-7be94e8b851d",
   "metadata": {},
   "outputs": [
    {
     "data": {
      "application/vnd.jupyter.widget-view+json": {
       "model_id": "3825d7482d714a689b16a17d8d9e50fe",
       "version_major": 2,
       "version_minor": 0
      },
      "text/plain": [
       "Downloading artifacts:   0%|          | 0/7 [00:00<?, ?it/s]"
      ]
     },
     "metadata": {},
     "output_type": "display_data"
    },
    {
     "name": "stdout",
     "output_type": "stream",
     "text": [
      "\u001b[1m\u001b[4mEvaluation Metrics : XGBoost_model\u001b[0m : (values close to 1 represent the GOOD Model)\n",
      "\n",
      "\tAccuracy     : 0.77    --> [TP + TN]/ALL       : The proportion of correctly predicted observations over total predictions\n",
      "\tLog Loss     : 0.61    --> Measures the performance of a classification model, Less is Good\n",
      "\t\u001b[1m\u001b[4mMacro\u001b[0m  \t\t       --> Macro average       : Treats all classes equally by computing the unweighted mean of per-class metrics\n",
      "\t  Precision  : 0.76    --> [TP]     /[TP + FP] : The proportion of true positive predictions over total positive predictions \n",
      "\t  Recall     : 0.76    --> [TP]     /[TP + FN] : The proportion of true positive predictions over total actual positives.\n",
      "\t  F1-Score   : 0.75    --> The harmonic mean of precision and recall, useful when FP and FN both have serious consequences\n",
      "\t  ROC-AUC    : 0.88    --> Measures the ability of the model to distinguish between classes.\n",
      "\t\u001b[1m\u001b[4mWeighted\u001b[0m  \t       --> Weighted average    : Accounts for class imbalance by weighting each class metric by its support\n",
      "\t  Precision  : 0.78    --> [TP]     /[TP + FP] : The proportion of true positive predictions over total positive predictions \n",
      "\t  Recall     : 0.77    --> [TP]     /[TP + FN] : The proportion of true positive predictions over total actual positives.\n",
      "\t  F1-Score   : 0.77    --> The harmonic mean of precision and recall, useful when FP and FN both have serious consequences\n",
      "\t  ROC-AUC    : 0.89    --> Measures the ability of the model to distinguish between classes.\n",
      "\n",
      "Confusion Matix      :         -->    \u001b[1m\u001b[4mORIGINAL\u001b[0m     \t\t\u001b[1m\u001b[4mSTANDARD\u001b[0m\n",
      "\n",
      "\t\t\t\t   [2309 95 120] \t        [998 315 337]\n",
      "\t\t\t\t   [454 2355 345] \t        [345 2355 454]\n",
      "\t\t\t\t   [337 315 998] \t        [120 95 2309]\n",
      "\n",
      "Classification Rpt   :\n",
      "\t\t\t\t              precision    recall  f1-score   support\n",
      "\t\t\t\t\n",
      "\t\t\t\t           0       0.74      0.91      0.82      2524\n",
      "\t\t\t\t           1       0.85      0.75      0.80      3154\n",
      "\t\t\t\t           2       0.68      0.60      0.64      1650\n",
      "\t\t\t\t\n",
      "\t\t\t\t    accuracy                           0.77      7328\n",
      "\t\t\t\t   macro avg       0.76      0.76      0.75      7328\n",
      "\t\t\t\tweighted avg       0.78      0.77      0.77      7328\n",
      "🏃 View run XGBoost_SMOTE_TFIDF_Trigrams at: http://ec2-13-201-96-130.ap-south-1.compute.amazonaws.com:5000/#/experiments/992315398862381677/runs/c164c0bb309844daba59161fc3287d42\n",
      "🧪 View experiment at: http://ec2-13-201-96-130.ap-south-1.compute.amazonaws.com:5000/#/experiments/992315398862381677\n"
     ]
    },
    {
     "data": {
      "image/png": "[encoded data removed]",
      "text/plain": [
       "<Figure size 800x600 with 2 Axes>"
      ]
     },
     "metadata": {},
     "output_type": "display_data"
    }
   ],
   "source": [
    "# Log the best model and its performance to MLflow, passing the algo_name as \"xgboost\"\n",
    "log_mlflow(\"XGBoost\", best_model, X_train_vec, X_test_vec, y_train, y_test, study.best_params)"
   ]
  },
  {
   "cell_type": "code",
   "execution_count": 17,
   "id": "66e4a264-41f0-4a39-9af2-08110a99214b",
   "metadata": {},
   "outputs": [
    {
     "name": "stderr",
     "output_type": "stream",
     "text": [
      "C:\\Users\\venka\\anaconda3\\envs\\DL_TF_GPU_MLFlow_env\\lib\\site-packages\\plotly\\io\\_renderers.py:51: UserWarning:\n",
      "\n",
      "Plotly version >= 6 requires Jupyter Notebook >= 7 but you have 6.5.7 installed.\n",
      " To upgrade Jupyter Notebook, please run `pip install notebook --upgrade`.\n",
      "\n"
     ]
    },
    {
     "data": {
      "application/vnd.plotly.v1+json": {
       "config": {
        "plotlyServerURL": "https://plot.ly"
       },
       "data": [
        {
         "mode": "markers",
         "name": "Objective Value",
         "type": "scatter",
         "x": [
          0,
          1,
          2,
          3,
          4,
          5,
          6,
          7,
          8,
          9,
          10,
          11,
          12,
          13,
          14,
          15,
          16,
          17,
          18,
          19,
          20,
          21,
          22,
          23,
          24,
          25,
          26,
          27,
          28,
          29
         ],
         "y": [
          0.5807860262008734,
          0.6176310043668122,
          0.6735807860262009,
          0.5346615720524017,
          0.6043941048034934,
          0.5818777292576419,
          0.6821779475982532,
          0.5732805676855895,
          0.5698689956331878,
          0.5080513100436681,
          0.7721069868995634,
          0.7704694323144105,
          0.7726528384279476,
          0.7689683406113537,
          0.7416757641921398,
          0.6375545851528385,
          0.7551855895196506,
          0.6334606986899564,
          0.6945960698689956,
          0.6630731441048034,
          0.7661026200873362,
          0.7719705240174672,
          0.7444050218340611,
          0.761735807860262,
          0.7179312227074236,
          0.673717248908297,
          0.7259825327510917,
          0.7595524017467249,
          0.75382096069869,
          0.5777838427947598
         ]
        },
        {
         "mode": "lines",
         "name": "Best Value",
         "type": "scatter",
         "x": [
          0,
          1,
          2,
          3,
          4,
          5,
          6,
          7,
          8,
          9,
          10,
          11,
          12,
          13,
          14,
          15,
          16,
          17,
          18,
          19,
          20,
          21,
          22,
          23,
          24,
          25,
          26,
          27,
          28,
          29
         ],
         "y": [
          0.5807860262008734,
          0.6176310043668122,
          0.6735807860262009,
          0.6735807860262009,
          0.6735807860262009,
          0.6735807860262009,
          0.6821779475982532,
          0.6821779475982532,
          0.6821779475982532,
          0.6821779475982532,
          0.7721069868995634,
          0.7721069868995634,
          0.7726528384279476,
          0.7726528384279476,
          0.7726528384279476,
          0.7726528384279476,
          0.7726528384279476,
          0.7726528384279476,
          0.7726528384279476,
          0.7726528384279476,
          0.7726528384279476,
          0.7726528384279476,
          0.7726528384279476,
          0.7726528384279476,
          0.7726528384279476,
          0.7726528384279476,
          0.7726528384279476,
          0.7726528384279476,
          0.7726528384279476,
          0.7726528384279476
         ]
        },
        {
         "marker": {
          "color": "#cccccc"
         },
         "mode": "markers",
         "name": "Infeasible Trial",
         "showlegend": false,
         "type": "scatter",
         "x": [],
         "y": []
        }
       ],
       "layout": {
        "autosize": true,
        "template": {
         "data": {
          "bar": [
           {
            "error_x": {
             "color": "#2a3f5f"
            },
            "error_y": {
             "color": "#2a3f5f"
            },
            "marker": {
             "line": {
              "color": "#E5ECF6",
              "width": 0.5
             },
             "pattern": {
              "fillmode": "overlay",
              "size": 10,
              "solidity": 0.2
             }
            },
            "type": "bar"
           }
          ],
          "barpolar": [
           {
            "marker": {
             "line": {
              "color": "#E5ECF6",
              "width": 0.5
             },
             "pattern": {
              "fillmode": "overlay",
              "size": 10,
              "solidity": 0.2
             }
            },
            "type": "barpolar"
           }
          ],
          "carpet": [
           {
            "aaxis": {
             "endlinecolor": "#2a3f5f",
             "gridcolor": "white",
             "linecolor": "white",
             "minorgridcolor": "white",
             "startlinecolor": "#2a3f5f"
            },
            "baxis": {
             "endlinecolor": "#2a3f5f",
             "gridcolor": "white",
             "linecolor": "white",
             "minorgridcolor": "white",
             "startlinecolor": "#2a3f5f"
            },
            "type": "carpet"
           }
          ],
          "choropleth": [
           {
            "colorbar": {
             "outlinewidth": 0,
             "ticks": ""
            },
            "type": "choropleth"
           }
          ],
          "contour": [
           {
            "colorbar": {
             "outlinewidth": 0,
             "ticks": ""
            },
            "colorscale": [
             [
              0,
              "#0d0887"
             ],
             [
              0.1111111111111111,
              "#46039f"
             ],
             [
              0.2222222222222222,
              "#7201a8"
             ],
             [
              0.3333333333333333,
              "#9c179e"
             ],
             [
              0.4444444444444444,
              "#bd3786"
             ],
             [
              0.5555555555555556,
              "#d8576b"
             ],
             [
              0.6666666666666666,
              "#ed7953"
             ],
             [
              0.7777777777777778,
              "#fb9f3a"
             ],
             [
              0.8888888888888888,
              "#fdca26"
             ],
             [
              1,
              "#f0f921"
             ]
            ],
            "type": "contour"
           }
          ],
          "contourcarpet": [
           {
            "colorbar": {
             "outlinewidth": 0,
             "ticks": ""
            },
            "type": "contourcarpet"
           }
          ],
          "heatmap": [
           {
            "colorbar": {
             "outlinewidth": 0,
             "ticks": ""
            },
            "colorscale": [
             [
              0,
              "#0d0887"
             ],
             [
              0.1111111111111111,
              "#46039f"
             ],
             [
              0.2222222222222222,
              "#7201a8"
             ],
             [
              0.3333333333333333,
              "#9c179e"
             ],
             [
              0.4444444444444444,
              "#bd3786"
             ],
             [
              0.5555555555555556,
              "#d8576b"
             ],
             [
              0.6666666666666666,
              "#ed7953"
             ],
             [
              0.7777777777777778,
              "#fb9f3a"
             ],
             [
              0.8888888888888888,
              "#fdca26"
             ],
             [
              1,
              "#f0f921"
             ]
            ],
            "type": "heatmap"
           }
          ],
          "histogram": [
           {
            "marker": {
             "pattern": {
              "fillmode": "overlay",
              "size": 10,
              "solidity": 0.2
             }
            },
            "type": "histogram"
           }
          ],
          "histogram2d": [
           {
            "colorbar": {
             "outlinewidth": 0,
             "ticks": ""
            },
            "colorscale": [
             [
              0,
              "#0d0887"
             ],
             [
              0.1111111111111111,
              "#46039f"
             ],
             [
              0.2222222222222222,
              "#7201a8"
             ],
             [
              0.3333333333333333,
              "#9c179e"
             ],
             [
              0.4444444444444444,
              "#bd3786"
             ],
             [
              0.5555555555555556,
              "#d8576b"
             ],
             [
              0.6666666666666666,
              "#ed7953"
             ],
             [
              0.7777777777777778,
              "#fb9f3a"
             ],
             [
              0.8888888888888888,
              "#fdca26"
             ],
             [
              1,
              "#f0f921"
             ]
            ],
            "type": "histogram2d"
           }
          ],
          "histogram2dcontour": [
           {
            "colorbar": {
             "outlinewidth": 0,
             "ticks": ""
            },
            "colorscale": [
             [
              0,
              "#0d0887"
             ],
             [
              0.1111111111111111,
              "#46039f"
             ],
             [
              0.2222222222222222,
              "#7201a8"
             ],
             [
              0.3333333333333333,
              "#9c179e"
             ],
             [
              0.4444444444444444,
              "#bd3786"
             ],
             [
              0.5555555555555556,
              "#d8576b"
             ],
             [
              0.6666666666666666,
              "#ed7953"
             ],
             [
              0.7777777777777778,
              "#fb9f3a"
             ],
             [
              0.8888888888888888,
              "#fdca26"
             ],
             [
              1,
              "#f0f921"
             ]
            ],
            "type": "histogram2dcontour"
           }
          ],
          "mesh3d": [
           {
            "colorbar": {
             "outlinewidth": 0,
             "ticks": ""
            },
            "type": "mesh3d"
           }
          ],
          "parcoords": [
           {
            "line": {
             "colorbar": {
              "outlinewidth": 0,
              "ticks": ""
             }
            },
            "type": "parcoords"
           }
          ],
          "pie": [
           {
            "automargin": true,
            "type": "pie"
           }
          ],
          "scatter": [
           {
            "fillpattern": {
             "fillmode": "overlay",
             "size": 10,
             "solidity": 0.2
            },
            "type": "scatter"
           }
          ],
          "scatter3d": [
           {
            "line": {
             "colorbar": {
              "outlinewidth": 0,
              "ticks": ""
             }
            },
            "marker": {
             "colorbar": {
              "outlinewidth": 0,
              "ticks": ""
             }
            },
            "type": "scatter3d"
           }
          ],
          "scattercarpet": [
           {
            "marker": {
             "colorbar": {
              "outlinewidth": 0,
              "ticks": ""
             }
            },
            "type": "scattercarpet"
           }
          ],
          "scattergeo": [
           {
            "marker": {
             "colorbar": {
              "outlinewidth": 0,
              "ticks": ""
             }
            },
            "type": "scattergeo"
           }
          ],
          "scattergl": [
           {
            "marker": {
             "colorbar": {
              "outlinewidth": 0,
              "ticks": ""
             }
            },
            "type": "scattergl"
           }
          ],
          "scattermap": [
           {
            "marker": {
             "colorbar": {
              "outlinewidth": 0,
              "ticks": ""
             }
            },
            "type": "scattermap"
           }
          ],
          "scattermapbox": [
           {
            "marker": {
             "colorbar": {
              "outlinewidth": 0,
              "ticks": ""
             }
            },
            "type": "scattermapbox"
           }
          ],
          "scatterpolar": [
           {
            "marker": {
             "colorbar": {
              "outlinewidth": 0,
              "ticks": ""
             }
            },
            "type": "scatterpolar"
           }
          ],
          "scatterpolargl": [
           {
            "marker": {
             "colorbar": {
              "outlinewidth": 0,
              "ticks": ""
             }
            },
            "type": "scatterpolargl"
           }
          ],
          "scatterternary": [
           {
            "marker": {
             "colorbar": {
              "outlinewidth": 0,
              "ticks": ""
             }
            },
            "type": "scatterternary"
           }
          ],
          "surface": [
           {
            "colorbar": {
             "outlinewidth": 0,
             "ticks": ""
            },
            "colorscale": [
             [
              0,
              "#0d0887"
             ],
             [
              0.1111111111111111,
              "#46039f"
             ],
             [
              0.2222222222222222,
              "#7201a8"
             ],
             [
              0.3333333333333333,
              "#9c179e"
             ],
             [
              0.4444444444444444,
              "#bd3786"
             ],
             [
              0.5555555555555556,
              "#d8576b"
             ],
             [
              0.6666666666666666,
              "#ed7953"
             ],
             [
              0.7777777777777778,
              "#fb9f3a"
             ],
             [
              0.8888888888888888,
              "#fdca26"
             ],
             [
              1,
              "#f0f921"
             ]
            ],
            "type": "surface"
           }
          ],
          "table": [
           {
            "cells": {
             "fill": {
              "color": "#EBF0F8"
             },
             "line": {
              "color": "white"
             }
            },
            "header": {
             "fill": {
              "color": "#C8D4E3"
             },
             "line": {
              "color": "white"
             }
            },
            "type": "table"
           }
          ]
         },
         "layout": {
          "annotationdefaults": {
           "arrowcolor": "#2a3f5f",
           "arrowhead": 0,
           "arrowwidth": 1
          },
          "autotypenumbers": "strict",
          "coloraxis": {
           "colorbar": {
            "outlinewidth": 0,
            "ticks": ""
           }
          },
          "colorscale": {
           "diverging": [
            [
             0,
             "#8e0152"
            ],
            [
             0.1,
             "#c51b7d"
            ],
            [
             0.2,
             "#de77ae"
            ],
            [
             0.3,
             "#f1b6da"
            ],
            [
             0.4,
             "#fde0ef"
            ],
            [
             0.5,
             "#f7f7f7"
            ],
            [
             0.6,
             "#e6f5d0"
            ],
            [
             0.7,
             "#b8e186"
            ],
            [
             0.8,
             "#7fbc41"
            ],
            [
             0.9,
             "#4d9221"
            ],
            [
             1,
             "#276419"
            ]
           ],
           "sequential": [
            [
             0,
             "#0d0887"
            ],
            [
             0.1111111111111111,
             "#46039f"
            ],
            [
             0.2222222222222222,
             "#7201a8"
            ],
            [
             0.3333333333333333,
             "#9c179e"
            ],
            [
             0.4444444444444444,
             "#bd3786"
            ],
            [
             0.5555555555555556,
             "#d8576b"
            ],
            [
             0.6666666666666666,
             "#ed7953"
            ],
            [
             0.7777777777777778,
             "#fb9f3a"
            ],
            [
             0.8888888888888888,
             "#fdca26"
            ],
            [
             1,
             "#f0f921"
            ]
           ],
           "sequentialminus": [
            [
             0,
             "#0d0887"
            ],
            [
             0.1111111111111111,
             "#46039f"
            ],
            [
             0.2222222222222222,
             "#7201a8"
            ],
            [
             0.3333333333333333,
             "#9c179e"
            ],
            [
             0.4444444444444444,
             "#bd3786"
            ],
            [
             0.5555555555555556,
             "#d8576b"
            ],
            [
             0.6666666666666666,
             "#ed7953"
            ],
            [
             0.7777777777777778,
             "#fb9f3a"
            ],
            [
             0.8888888888888888,
             "#fdca26"
            ],
            [
             1,
             "#f0f921"
            ]
           ]
          },
          "colorway": [
           "#636efa",
           "#EF553B",
           "#00cc96",
           "#ab63fa",
           "#FFA15A",
           "#19d3f3",
           "#FF6692",
           "#B6E880",
           "#FF97FF",
           "#FECB52"
          ],
          "font": {
           "color": "#2a3f5f"
          },
          "geo": {
           "bgcolor": "white",
           "lakecolor": "white",
           "landcolor": "#E5ECF6",
           "showlakes": true,
           "showland": true,
           "subunitcolor": "white"
          },
          "hoverlabel": {
           "align": "left"
          },
          "hovermode": "closest",
          "mapbox": {
           "style": "light"
          },
          "paper_bgcolor": "white",
          "plot_bgcolor": "#E5ECF6",
          "polar": {
           "angularaxis": {
            "gridcolor": "white",
            "linecolor": "white",
            "ticks": ""
           },
           "bgcolor": "#E5ECF6",
           "radialaxis": {
            "gridcolor": "white",
            "linecolor": "white",
            "ticks": ""
           }
          },
          "scene": {
           "xaxis": {
            "backgroundcolor": "#E5ECF6",
            "gridcolor": "white",
            "gridwidth": 2,
            "linecolor": "white",
            "showbackground": true,
            "ticks": "",
            "zerolinecolor": "white"
           },
           "yaxis": {
            "backgroundcolor": "#E5ECF6",
            "gridcolor": "white",
            "gridwidth": 2,
            "linecolor": "white",
            "showbackground": true,
            "ticks": "",
            "zerolinecolor": "white"
           },
           "zaxis": {
            "backgroundcolor": "#E5ECF6",
            "gridcolor": "white",
            "gridwidth": 2,
            "linecolor": "white",
            "showbackground": true,
            "ticks": "",
            "zerolinecolor": "white"
           }
          },
          "shapedefaults": {
           "line": {
            "color": "#2a3f5f"
           }
          },
          "ternary": {
           "aaxis": {
            "gridcolor": "white",
            "linecolor": "white",
            "ticks": ""
           },
           "baxis": {
            "gridcolor": "white",
            "linecolor": "white",
            "ticks": ""
           },
           "bgcolor": "#E5ECF6",
           "caxis": {
            "gridcolor": "white",
            "linecolor": "white",
            "ticks": ""
           }
          },
          "title": {
           "x": 0.05
          },
          "xaxis": {
           "automargin": true,
           "gridcolor": "white",
           "linecolor": "white",
           "ticks": "",
           "title": {
            "standoff": 15
           },
           "zerolinecolor": "white",
           "zerolinewidth": 2
          },
          "yaxis": {
           "automargin": true,
           "gridcolor": "white",
           "linecolor": "white",
           "ticks": "",
           "title": {
            "standoff": 15
           },
           "zerolinecolor": "white",
           "zerolinewidth": 2
          }
         }
        },
        "title": {
         "text": "Optimization History Plot"
        },
        "xaxis": {
         "autorange": true,
         "range": [
          -1.7696850393700787,
          30.769685039370078
         ],
         "title": {
          "text": "Trial"
         },
         "type": "linear"
        },
        "yaxis": {
         "autorange": true,
         "range": [
          0.48621526158477124,
          0.7944888868868445
         ],
         "title": {
          "text": "Objective Value"
         },
         "type": "linear"
        }
       }
      },
      "image/png": "[encoded data removed]"
     },
     "metadata": {},
     "output_type": "display_data"
    },
    {
     "name": "stderr",
     "output_type": "stream",
     "text": [
      "C:\\Users\\venka\\anaconda3\\envs\\DL_TF_GPU_MLFlow_env\\lib\\site-packages\\plotly\\io\\_renderers.py:51: UserWarning:\n",
      "\n",
      "Plotly version >= 6 requires Jupyter Notebook >= 7 but you have 6.5.7 installed.\n",
      " To upgrade Jupyter Notebook, please run `pip install notebook --upgrade`.\n",
      "\n"
     ]
    },
    {
     "data": {
      "application/vnd.plotly.v1+json": {
       "config": {
        "plotlyServerURL": "https://plot.ly"
       },
       "data": [
        {
         "cliponaxis": false,
         "hovertemplate": [
          "max_depth (IntDistribution): 0.0458282635919185<extra></extra>",
          "n_estimators (IntDistribution): 0.10554430228067938<extra></extra>",
          "learning_rate (FloatDistribution): 0.8486274341274022<extra></extra>"
         ],
         "name": "Objective Value",
         "orientation": "h",
         "text": [
          "0.05",
          "0.11",
          "0.85"
         ],
         "textposition": "outside",
         "type": "bar",
         "x": [
          0.0458282635919185,
          0.10554430228067938,
          0.8486274341274022
         ],
         "y": [
          "max_depth",
          "n_estimators",
          "learning_rate"
         ]
        }
       ],
       "layout": {
        "autosize": true,
        "template": {
         "data": {
          "bar": [
           {
            "error_x": {
             "color": "#2a3f5f"
            },
            "error_y": {
             "color": "#2a3f5f"
            },
            "marker": {
             "line": {
              "color": "#E5ECF6",
              "width": 0.5
             },
             "pattern": {
              "fillmode": "overlay",
              "size": 10,
              "solidity": 0.2
             }
            },
            "type": "bar"
           }
          ],
          "barpolar": [
           {
            "marker": {
             "line": {
              "color": "#E5ECF6",
              "width": 0.5
             },
             "pattern": {
              "fillmode": "overlay",
              "size": 10,
              "solidity": 0.2
             }
            },
            "type": "barpolar"
           }
          ],
          "carpet": [
           {
            "aaxis": {
             "endlinecolor": "#2a3f5f",
             "gridcolor": "white",
             "linecolor": "white",
             "minorgridcolor": "white",
             "startlinecolor": "#2a3f5f"
            },
            "baxis": {
             "endlinecolor": "#2a3f5f",
             "gridcolor": "white",
             "linecolor": "white",
             "minorgridcolor": "white",
             "startlinecolor": "#2a3f5f"
            },
            "type": "carpet"
           }
          ],
          "choropleth": [
           {
            "colorbar": {
             "outlinewidth": 0,
             "ticks": ""
            },
            "type": "choropleth"
           }
          ],
          "contour": [
           {
            "colorbar": {
             "outlinewidth": 0,
             "ticks": ""
            },
            "colorscale": [
             [
              0,
              "#0d0887"
             ],
             [
              0.1111111111111111,
              "#46039f"
             ],
             [
              0.2222222222222222,
              "#7201a8"
             ],
             [
              0.3333333333333333,
              "#9c179e"
             ],
             [
              0.4444444444444444,
              "#bd3786"
             ],
             [
              0.5555555555555556,
              "#d8576b"
             ],
             [
              0.6666666666666666,
              "#ed7953"
             ],
             [
              0.7777777777777778,
              "#fb9f3a"
             ],
             [
              0.8888888888888888,
              "#fdca26"
             ],
             [
              1,
              "#f0f921"
             ]
            ],
            "type": "contour"
           }
          ],
          "contourcarpet": [
           {
            "colorbar": {
             "outlinewidth": 0,
             "ticks": ""
            },
            "type": "contourcarpet"
           }
          ],
          "heatmap": [
           {
            "colorbar": {
             "outlinewidth": 0,
             "ticks": ""
            },
            "colorscale": [
             [
              0,
              "#0d0887"
             ],
             [
              0.1111111111111111,
              "#46039f"
             ],
             [
              0.2222222222222222,
              "#7201a8"
             ],
             [
              0.3333333333333333,
              "#9c179e"
             ],
             [
              0.4444444444444444,
              "#bd3786"
             ],
             [
              0.5555555555555556,
              "#d8576b"
             ],
             [
              0.6666666666666666,
              "#ed7953"
             ],
             [
              0.7777777777777778,
              "#fb9f3a"
             ],
             [
              0.8888888888888888,
              "#fdca26"
             ],
             [
              1,
              "#f0f921"
             ]
            ],
            "type": "heatmap"
           }
          ],
          "histogram": [
           {
            "marker": {
             "pattern": {
              "fillmode": "overlay",
              "size": 10,
              "solidity": 0.2
             }
            },
            "type": "histogram"
           }
          ],
          "histogram2d": [
           {
            "colorbar": {
             "outlinewidth": 0,
             "ticks": ""
            },
            "colorscale": [
             [
              0,
              "#0d0887"
             ],
             [
              0.1111111111111111,
              "#46039f"
             ],
             [
              0.2222222222222222,
              "#7201a8"
             ],
             [
              0.3333333333333333,
              "#9c179e"
             ],
             [
              0.4444444444444444,
              "#bd3786"
             ],
             [
              0.5555555555555556,
              "#d8576b"
             ],
             [
              0.6666666666666666,
              "#ed7953"
             ],
             [
              0.7777777777777778,
              "#fb9f3a"
             ],
             [
              0.8888888888888888,
              "#fdca26"
             ],
             [
              1,
              "#f0f921"
             ]
            ],
            "type": "histogram2d"
           }
          ],
          "histogram2dcontour": [
           {
            "colorbar": {
             "outlinewidth": 0,
             "ticks": ""
            },
            "colorscale": [
             [
              0,
              "#0d0887"
             ],
             [
              0.1111111111111111,
              "#46039f"
             ],
             [
              0.2222222222222222,
              "#7201a8"
             ],
             [
              0.3333333333333333,
              "#9c179e"
             ],
             [
              0.4444444444444444,
              "#bd3786"
             ],
             [
              0.5555555555555556,
              "#d8576b"
             ],
             [
              0.6666666666666666,
              "#ed7953"
             ],
             [
              0.7777777777777778,
              "#fb9f3a"
             ],
             [
              0.8888888888888888,
              "#fdca26"
             ],
             [
              1,
              "#f0f921"
             ]
            ],
            "type": "histogram2dcontour"
           }
          ],
          "mesh3d": [
           {
            "colorbar": {
             "outlinewidth": 0,
             "ticks": ""
            },
            "type": "mesh3d"
           }
          ],
          "parcoords": [
           {
            "line": {
             "colorbar": {
              "outlinewidth": 0,
              "ticks": ""
             }
            },
            "type": "parcoords"
           }
          ],
          "pie": [
           {
            "automargin": true,
            "type": "pie"
           }
          ],
          "scatter": [
           {
            "fillpattern": {
             "fillmode": "overlay",
             "size": 10,
             "solidity": 0.2
            },
            "type": "scatter"
           }
          ],
          "scatter3d": [
           {
            "line": {
             "colorbar": {
              "outlinewidth": 0,
              "ticks": ""
             }
            },
            "marker": {
             "colorbar": {
              "outlinewidth": 0,
              "ticks": ""
             }
            },
            "type": "scatter3d"
           }
          ],
          "scattercarpet": [
           {
            "marker": {
             "colorbar": {
              "outlinewidth": 0,
              "ticks": ""
             }
            },
            "type": "scattercarpet"
           }
          ],
          "scattergeo": [
           {
            "marker": {
             "colorbar": {
              "outlinewidth": 0,
              "ticks": ""
             }
            },
            "type": "scattergeo"
           }
          ],
          "scattergl": [
           {
            "marker": {
             "colorbar": {
              "outlinewidth": 0,
              "ticks": ""
             }
            },
            "type": "scattergl"
           }
          ],
          "scattermap": [
           {
            "marker": {
             "colorbar": {
              "outlinewidth": 0,
              "ticks": ""
             }
            },
            "type": "scattermap"
           }
          ],
          "scattermapbox": [
           {
            "marker": {
             "colorbar": {
              "outlinewidth": 0,
              "ticks": ""
             }
            },
            "type": "scattermapbox"
           }
          ],
          "scatterpolar": [
           {
            "marker": {
             "colorbar": {
              "outlinewidth": 0,
              "ticks": ""
             }
            },
            "type": "scatterpolar"
           }
          ],
          "scatterpolargl": [
           {
            "marker": {
             "colorbar": {
              "outlinewidth": 0,
              "ticks": ""
             }
            },
            "type": "scatterpolargl"
           }
          ],
          "scatterternary": [
           {
            "marker": {
             "colorbar": {
              "outlinewidth": 0,
              "ticks": ""
             }
            },
            "type": "scatterternary"
           }
          ],
          "surface": [
           {
            "colorbar": {
             "outlinewidth": 0,
             "ticks": ""
            },
            "colorscale": [
             [
              0,
              "#0d0887"
             ],
             [
              0.1111111111111111,
              "#46039f"
             ],
             [
              0.2222222222222222,
              "#7201a8"
             ],
             [
              0.3333333333333333,
              "#9c179e"
             ],
             [
              0.4444444444444444,
              "#bd3786"
             ],
             [
              0.5555555555555556,
              "#d8576b"
             ],
             [
              0.6666666666666666,
              "#ed7953"
             ],
             [
              0.7777777777777778,
              "#fb9f3a"
             ],
             [
              0.8888888888888888,
              "#fdca26"
             ],
             [
              1,
              "#f0f921"
             ]
            ],
            "type": "surface"
           }
          ],
          "table": [
           {
            "cells": {
             "fill": {
              "color": "#EBF0F8"
             },
             "line": {
              "color": "white"
             }
            },
            "header": {
             "fill": {
              "color": "#C8D4E3"
             },
             "line": {
              "color": "white"
             }
            },
            "type": "table"
           }
          ]
         },
         "layout": {
          "annotationdefaults": {
           "arrowcolor": "#2a3f5f",
           "arrowhead": 0,
           "arrowwidth": 1
          },
          "autotypenumbers": "strict",
          "coloraxis": {
           "colorbar": {
            "outlinewidth": 0,
            "ticks": ""
           }
          },
          "colorscale": {
           "diverging": [
            [
             0,
             "#8e0152"
            ],
            [
             0.1,
             "#c51b7d"
            ],
            [
             0.2,
             "#de77ae"
            ],
            [
             0.3,
             "#f1b6da"
            ],
            [
             0.4,
             "#fde0ef"
            ],
            [
             0.5,
             "#f7f7f7"
            ],
            [
             0.6,
             "#e6f5d0"
            ],
            [
             0.7,
             "#b8e186"
            ],
            [
             0.8,
             "#7fbc41"
            ],
            [
             0.9,
             "#4d9221"
            ],
            [
             1,
             "#276419"
            ]
           ],
           "sequential": [
            [
             0,
             "#0d0887"
            ],
            [
             0.1111111111111111,
             "#46039f"
            ],
            [
             0.2222222222222222,
             "#7201a8"
            ],
            [
             0.3333333333333333,
             "#9c179e"
            ],
            [
             0.4444444444444444,
             "#bd3786"
            ],
            [
             0.5555555555555556,
             "#d8576b"
            ],
            [
             0.6666666666666666,
             "#ed7953"
            ],
            [
             0.7777777777777778,
             "#fb9f3a"
            ],
            [
             0.8888888888888888,
             "#fdca26"
            ],
            [
             1,
             "#f0f921"
            ]
           ],
           "sequentialminus": [
            [
             0,
             "#0d0887"
            ],
            [
             0.1111111111111111,
             "#46039f"
            ],
            [
             0.2222222222222222,
             "#7201a8"
            ],
            [
             0.3333333333333333,
             "#9c179e"
            ],
            [
             0.4444444444444444,
             "#bd3786"
            ],
            [
             0.5555555555555556,
             "#d8576b"
            ],
            [
             0.6666666666666666,
             "#ed7953"
            ],
            [
             0.7777777777777778,
             "#fb9f3a"
            ],
            [
             0.8888888888888888,
             "#fdca26"
            ],
            [
             1,
             "#f0f921"
            ]
           ]
          },
          "colorway": [
           "#636efa",
           "#EF553B",
           "#00cc96",
           "#ab63fa",
           "#FFA15A",
           "#19d3f3",
           "#FF6692",
           "#B6E880",
           "#FF97FF",
           "#FECB52"
          ],
          "font": {
           "color": "#2a3f5f"
          },
          "geo": {
           "bgcolor": "white",
           "lakecolor": "white",
           "landcolor": "#E5ECF6",
           "showlakes": true,
           "showland": true,
           "subunitcolor": "white"
          },
          "hoverlabel": {
           "align": "left"
          },
          "hovermode": "closest",
          "mapbox": {
           "style": "light"
          },
          "paper_bgcolor": "white",
          "plot_bgcolor": "#E5ECF6",
          "polar": {
           "angularaxis": {
            "gridcolor": "white",
            "linecolor": "white",
            "ticks": ""
           },
           "bgcolor": "#E5ECF6",
           "radialaxis": {
            "gridcolor": "white",
            "linecolor": "white",
            "ticks": ""
           }
          },
          "scene": {
           "xaxis": {
            "backgroundcolor": "#E5ECF6",
            "gridcolor": "white",
            "gridwidth": 2,
            "linecolor": "white",
            "showbackground": true,
            "ticks": "",
            "zerolinecolor": "white"
           },
           "yaxis": {
            "backgroundcolor": "#E5ECF6",
            "gridcolor": "white",
            "gridwidth": 2,
            "linecolor": "white",
            "showbackground": true,
            "ticks": "",
            "zerolinecolor": "white"
           },
           "zaxis": {
            "backgroundcolor": "#E5ECF6",
            "gridcolor": "white",
            "gridwidth": 2,
            "linecolor": "white",
            "showbackground": true,
            "ticks": "",
            "zerolinecolor": "white"
           }
          },
          "shapedefaults": {
           "line": {
            "color": "#2a3f5f"
           }
          },
          "ternary": {
           "aaxis": {
            "gridcolor": "white",
            "linecolor": "white",
            "ticks": ""
           },
           "baxis": {
            "gridcolor": "white",
            "linecolor": "white",
            "ticks": ""
           },
           "bgcolor": "#E5ECF6",
           "caxis": {
            "gridcolor": "white",
            "linecolor": "white",
            "ticks": ""
           }
          },
          "title": {
           "x": 0.05
          },
          "xaxis": {
           "automargin": true,
           "gridcolor": "white",
           "linecolor": "white",
           "ticks": "",
           "title": {
            "standoff": 15
           },
           "zerolinecolor": "white",
           "zerolinewidth": 2
          },
          "yaxis": {
           "automargin": true,
           "gridcolor": "white",
           "linecolor": "white",
           "ticks": "",
           "title": {
            "standoff": 15
           },
           "zerolinecolor": "white",
           "zerolinewidth": 2
          }
         }
        },
        "title": {
         "text": "Hyperparameter Importances"
        },
        "xaxis": {
         "autorange": true,
         "range": [
          0,
          0.8932920359235812
         ],
         "title": {
          "text": "Hyperparameter Importance"
         },
         "type": "linear"
        },
        "yaxis": {
         "autorange": true,
         "range": [
          -0.5,
          2.5
         ],
         "title": {
          "text": "Hyperparameter"
         },
         "type": "category"
        }
       }
      },
      "image/png": "[encoded data removed]"
     },
     "metadata": {},
     "output_type": "display_data"
    }
   ],
   "source": [
    "# Visualize optimization history and parameter importance\n",
    "import plotly\n",
    "\n",
    "optuna.visualization.plot_optimization_history(study).show()\n",
    "optuna.visualization.plot_param_importances   (study).show()"
   ]
  },
  {
   "cell_type": "code",
   "execution_count": null,
   "id": "e3087f56-39d3-4034-82e9-14cf956f9c3c",
   "metadata": {},
   "outputs": [],
   "source": []
  }
 ],
 "metadata": {
  "kernelspec": {
   "display_name": "DL_TF_GPU_MLFlow_env",
   "language": "python",
   "name": "dl_tf_gpu_mlflow_env"
  },
  "language_info": {
   "codemirror_mode": {
    "name": "ipython",
    "version": 3
   },
   "file_extension": ".py",
   "mimetype": "text/x-python",
   "name": "python",
   "nbconvert_exporter": "python",
   "pygments_lexer": "ipython3",
   "version": "3.9.15"
  }
 },
 "nbformat": 4,
 "nbformat_minor": 5
}
